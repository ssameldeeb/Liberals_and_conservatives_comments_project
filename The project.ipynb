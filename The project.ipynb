{
 "cells": [
  {
   "cell_type": "code",
   "execution_count": 1,
   "id": "8970527d",
   "metadata": {},
   "outputs": [],
   "source": [
    "import pandas as pd\n",
    "from sklearn.preprocessing import LabelEncoder\n",
    "from sklearn.model_selection import train_test_split\n",
    "from sklearn.preprocessing import StandardScaler\n",
    "from sklearn.linear_model import LogisticRegression\n",
    "from sklearn.tree import DecisionTreeClassifier\n",
    "from sklearn.linear_model import LinearRegression\n",
    "from sklearn.metrics import confusion_matrix , accuracy_score\n",
    "import matplotlib.pyplot as plt\n",
    "import seaborn as sns"
   ]
  },
  {
   "cell_type": "code",
   "execution_count": 2,
   "id": "571ad679",
   "metadata": {},
   "outputs": [],
   "source": [
    "data = pd.read_csv(\"file_name.csv\")"
   ]
  },
  {
   "cell_type": "code",
   "execution_count": 3,
   "id": "5fe59b9f",
   "metadata": {
    "scrolled": false
   },
   "outputs": [
    {
     "name": "stdout",
     "output_type": "stream",
     "text": [
      "(12854, 9)\n",
      "['Title' 'Political Lean' 'Score' 'Id' 'Subreddit' 'URL' 'Num of Comments'\n",
      " 'Text' 'Date Created']\n",
      "Title                  0\n",
      "Political Lean         0\n",
      "Score                  0\n",
      "Id                     0\n",
      "Subreddit              0\n",
      "URL                    0\n",
      "Num of Comments        0\n",
      "Text               10426\n",
      "Date Created           0\n",
      "dtype: int64\n",
      "<class 'pandas.core.frame.DataFrame'>\n",
      "RangeIndex: 12854 entries, 0 to 12853\n",
      "Data columns (total 9 columns):\n",
      " #   Column           Non-Null Count  Dtype  \n",
      "---  ------           --------------  -----  \n",
      " 0   Title            12854 non-null  object \n",
      " 1   Political Lean   12854 non-null  object \n",
      " 2   Score            12854 non-null  int64  \n",
      " 3   Id               12854 non-null  object \n",
      " 4   Subreddit        12854 non-null  object \n",
      " 5   URL              12854 non-null  object \n",
      " 6   Num of Comments  12854 non-null  int64  \n",
      " 7   Text             2428 non-null   object \n",
      " 8   Date Created     12854 non-null  float64\n",
      "dtypes: float64(1), int64(2), object(6)\n",
      "memory usage: 903.9+ KB\n",
      "None\n",
      "Title               object\n",
      "Political Lean      object\n",
      "Score                int64\n",
      "Id                  object\n",
      "Subreddit           object\n",
      "URL                 object\n",
      "Num of Comments      int64\n",
      "Text                object\n",
      "Date Created       float64\n",
      "dtype: object\n",
      "                                               Title Political Lean  Score  \\\n",
      "0  No matter who someone is, how they look like, ...        Liberal      1   \n",
      "1    Biden speech draws 38.2 million U.S. TV viewers        Liberal      6   \n",
      "2                                 State of the union        Liberal      1   \n",
      "3              We Should Just Give Poor People Money        Liberal      7   \n",
      "4                                  Do it for the Dew        Liberal      6   \n",
      "\n",
      "       Id            Subreddit  \\\n",
      "0  t5fybt            socialism   \n",
      "1  t5fqdn            democrats   \n",
      "2  t5fj9a  DemocraticSocialism   \n",
      "3  t5f7n9      SocialDemocracy   \n",
      "4  t5es2c            democrats   \n",
      "\n",
      "                                                 URL  Num of Comments  \\\n",
      "0                    https://v.redd.it/ng5fyl7hp2l81                0   \n",
      "1  https://www.reuters.com/world/us/biden-speech-...                1   \n",
      "2  https://www.reddit.com/r/DemocraticSocialism/c...                1   \n",
      "3                       https://youtu.be/a80kRjpubG0                3   \n",
      "4                https://i.redd.it/drmunn90f2l81.jpg                1   \n",
      "\n",
      "                                                Text  Date Created  \n",
      "0                                                NaN  1.646272e+09  \n",
      "1                                                NaN  1.646271e+09  \n",
      "2  Who watched the state of the union last night ...  1.646270e+09  \n",
      "3                                                NaN  1.646270e+09  \n",
      "4                                                NaN  1.646268e+09  \n"
     ]
    }
   ],
   "source": [
    "print(data.shape)\n",
    "print(data.columns.values)\n",
    "print(data.isnull().sum())\n",
    "print(data.info())\n",
    "print(data.dtypes)\n",
    "print(data.head())\n"
   ]
  },
  {
   "cell_type": "code",
   "execution_count": 4,
   "id": "ddc11078",
   "metadata": {},
   "outputs": [
    {
     "name": "stdout",
     "output_type": "stream",
     "text": [
      "Political Lean     0\n",
      "Score              0\n",
      "Subreddit          0\n",
      "URL                0\n",
      "Num of Comments    0\n",
      "Date Created       0\n",
      "dtype: int64\n"
     ]
    }
   ],
   "source": [
    "data = data.drop([\"Text\",\"Id\",\"Title\"], axis=1)\n",
    "print(data.isnull().sum())"
   ]
  },
  {
   "cell_type": "code",
   "execution_count": 5,
   "id": "7c66a5e2",
   "metadata": {},
   "outputs": [
    {
     "name": "stdout",
     "output_type": "stream",
     "text": [
      "['Liberal' 'Conservative']\n",
      "Liberal         8319\n",
      "Conservative    4535\n",
      "Name: Political Lean, dtype: int64\n"
     ]
    }
   ],
   "source": [
    "print(data[\"Political Lean\"].unique())\n",
    "print(data[\"Political Lean\"].value_counts())"
   ]
  },
  {
   "cell_type": "code",
   "execution_count": 6,
   "id": "3a633de4",
   "metadata": {},
   "outputs": [],
   "source": [
    "La = LabelEncoder()\n",
    "data[\"Political Lean\"] = La.fit_transform(data[\"Political Lean\"])\n",
    "data[\"Subreddit\"] = La.fit_transform(data[\"Subreddit\"])\n",
    "data[\"URL\"] = La.fit_transform(data[\"URL\"])"
   ]
  },
  {
   "cell_type": "code",
   "execution_count": 7,
   "id": "8145c2fd",
   "metadata": {
    "scrolled": true
   },
   "outputs": [
    {
     "name": "stdout",
     "output_type": "stream",
     "text": [
      "Political Lean       int32\n",
      "Score                int64\n",
      "Subreddit            int32\n",
      "URL                  int32\n",
      "Num of Comments      int64\n",
      "Date Created       float64\n",
      "dtype: object\n",
      "   Political Lean  Score  Subreddit    URL  Num of Comments  Date Created\n",
      "0               1      1         14   4396                0  1.646272e+09\n",
      "1               1      6         10  10155                1  1.646271e+09\n",
      "2               1      1          2   8242                1  1.646270e+09\n"
     ]
    }
   ],
   "source": [
    "print(data.dtypes)\n",
    "print(data.head(3))"
   ]
  },
  {
   "cell_type": "code",
   "execution_count": 8,
   "id": "3649b003",
   "metadata": {},
   "outputs": [],
   "source": [
    "x = data.drop(\"Political Lean\",axis=1)\n",
    "y = data[\"Political Lean\"]"
   ]
  },
  {
   "cell_type": "code",
   "execution_count": 9,
   "id": "b9c840cd",
   "metadata": {},
   "outputs": [
    {
     "name": "stdout",
     "output_type": "stream",
     "text": [
      "[[-0.23564975  1.51966609 -0.48940018 -0.31560422  0.38764792]\n",
      " [-0.22562708  0.61124457  1.13232571 -0.29904223  0.38763697]\n",
      " [-0.23564975 -1.20559846  0.59362774 -0.29904223  0.38762683]\n",
      " [-0.22362254 -0.29717695  1.68200602 -0.26591825  0.3876108 ]\n",
      " [-0.22562708  0.61124457 -1.1894541  -0.29904223  0.38758912]]\n"
     ]
    }
   ],
   "source": [
    "# scaling\n",
    "ss = StandardScaler()\n",
    "x = ss.fit_transform(x)\n",
    "print(x[:5])"
   ]
  },
  {
   "cell_type": "code",
   "execution_count": 10,
   "id": "c4dbabf9",
   "metadata": {},
   "outputs": [
    {
     "name": "stdout",
     "output_type": "stream",
     "text": [
      "(8997, 5)\n"
     ]
    }
   ],
   "source": [
    "X_train, X_test, y_train, y_test = train_test_split(x, y, test_size=0.3, shuffle =True)\n",
    "print(X_train.shape)"
   ]
  },
  {
   "cell_type": "code",
   "execution_count": 11,
   "id": "6404662d",
   "metadata": {},
   "outputs": [
    {
     "name": "stdout",
     "output_type": "stream",
     "text": [
      "____________________________________________________________________________________________________\n",
      "0.6917861509392019\n",
      "0.6927663987555095\n",
      "____________________________________________________________________________________________________\n"
     ]
    }
   ],
   "source": [
    "# Logistic_model\n",
    "Lo = LogisticRegression()\n",
    "Lo.fit(X_train, y_train)\n",
    "\n",
    "print(\"_\"*100)\n",
    "print(Lo.score(X_train, y_train))\n",
    "print(Lo.score(X_test, y_test))\n",
    "print(\"_\"*100)"
   ]
  },
  {
   "cell_type": "code",
   "execution_count": 12,
   "id": "72fb8afd",
   "metadata": {},
   "outputs": [],
   "source": [
    "# print(\"_\"*150)\n",
    "# for x in range(2,20):\n",
    "#     Dt = DecisionTreeClassifier(max_depth=x,random_state=33)\n",
    "#     Dt.fit(X_train, y_train)\n",
    "\n",
    "#     print(\"x = \", x)\n",
    "#     print(Dt.score(X_train, y_train))\n",
    "#     print(Dt.score(X_test, y_test))\n",
    "#     print(\"_\"*100)\n",
    "\n",
    "\n",
    "\n",
    "# LinearRegression_model\n",
    "\n",
    "# x = data.drop(\"Score\",axis=1)\n",
    "# y = data[\"Score\"]\n",
    "\n",
    "# X_train, X_test, y_train, y_test = train_test_split(x, y, test_size=0.3, shuffle =True)\n",
    "# print(X_train.shape)\n",
    "\n",
    "# Li = LinearRegression()\n",
    "# Li.fit(X_train, y_train)\n",
    "\n",
    "# print(\"_\"*100)\n",
    "# print(Li.score(X_train, y_train))\n",
    "# print(Li.score(X_test, y_test))\n",
    "# print(\"_\"*100)"
   ]
  },
  {
   "cell_type": "code",
   "execution_count": 15,
   "id": "64363385",
   "metadata": {},
   "outputs": [
    {
     "name": "stdout",
     "output_type": "stream",
     "text": [
      "____________________________________________________________________________________________________\n",
      "1.0\n",
      "1.0\n"
     ]
    }
   ],
   "source": [
    "# DecisionTreeClassifier_model\n",
    "print(\"_\"*100)\n",
    "Dt = DecisionTreeClassifier(max_depth=15,random_state=33)\n",
    "Dt.fit(X_train, y_train)\n",
    "\n",
    "print(Dt.score(X_train, y_train))\n",
    "print(Dt.score(X_test, y_test))"
   ]
  },
  {
   "cell_type": "code",
   "execution_count": 16,
   "id": "24fa7bc7",
   "metadata": {},
   "outputs": [],
   "source": [
    "y_pred = Dt.predict(X_test)"
   ]
  },
  {
   "cell_type": "code",
   "execution_count": 17,
   "id": "1b142678",
   "metadata": {},
   "outputs": [
    {
     "name": "stdout",
     "output_type": "stream",
     "text": [
      "[[1344    0]\n",
      " [   0 2513]]\n"
     ]
    },
    {
     "data": {
      "image/png": "[encoded data removed]",
      "text/plain": [
       "<Figure size 432x288 with 2 Axes>"
      ]
     },
     "metadata": {
      "needs_background": "light"
     },
     "output_type": "display_data"
    }
   ],
   "source": [
    "# confusion_matrix\n",
    "Cm = confusion_matrix(y_test,y_pred)\n",
    "print(Cm)\n",
    "sns.heatmap(Cm,annot=True, fmt=\"d\", cmap=\"magma\")\n",
    "plt.show()"
   ]
  },
  {
   "cell_type": "code",
   "execution_count": 18,
   "id": "b34fb072",
   "metadata": {},
   "outputs": [
    {
     "name": "stdout",
     "output_type": "stream",
     "text": [
      "1.0\n"
     ]
    }
   ],
   "source": [
    "# accuracy_score\n",
    "As = accuracy_score(y_test,y_pred)\n",
    "print(As)"
   ]
  },
  {
   "cell_type": "code",
   "execution_count": 19,
   "id": "33e0fdde",
   "metadata": {},
   "outputs": [],
   "source": [
    "# The autput result\n",
    "result = pd.DataFrame({\"y_test\":y_test, \"y_pred\":y_pred})\n",
    "# result.to_csv(\"The autput.csv\",index=False)"
   ]
  }
 ],
 "metadata": {
  "kernelspec": {
   "display_name": "Python 3",
   "language": "python",
   "name": "python3"
  },
  "language_info": {
   "codemirror_mode": {
    "name": "ipython",
    "version": 3
   },
   "file_extension": ".py",
   "mimetype": "text/x-python",
   "name": "python",
   "nbconvert_exporter": "python",
   "pygments_lexer": "ipython3",
   "version": "3.8.8"
  }
 },
 "nbformat": 4,
 "nbformat_minor": 5
}
